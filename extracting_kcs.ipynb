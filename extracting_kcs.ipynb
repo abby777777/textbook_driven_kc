{
  "nbformat": 4,
  "nbformat_minor": 0,
  "metadata": {
    "colab": {
      "provenance": []
    },
    "kernelspec": {
      "name": "python3",
      "display_name": "Python 3"
    },
    "language_info": {
      "name": "python"
    }
  },
  "cells": [
    {
      "cell_type": "markdown",
      "source": [
        "### 1. load in your student data\n",
        "### 2. left join student data with the kcs you've identified for the problem that the row is working on\n",
        "\n"
      ],
      "metadata": {
        "id": "z-USQnBDXf_9"
      }
    },
    {
      "cell_type": "markdown",
      "source": [
        "## Running Gemini Extraction\n",
        "\n"
      ],
      "metadata": {
        "id": "W3z5kh-xXqG-"
      }
    },
    {
      "cell_type": "code",
      "source": [
        "!pip install --upgrade google-generativeai\n",
        "import google.generativeai as genai\n",
        "from tqdm import tqdm\n",
        "import os"
      ],
      "metadata": {
        "id": "7FqaJHXaXtuv"
      },
      "execution_count": null,
      "outputs": []
    },
    {
      "cell_type": "code",
      "source": [
        "GEMINI_API_KEY = [TODO ENTER API KEY HERE]\n",
        "genai.configure(api_key=GEMINI_API_KEY)\n",
        "\n",
        "#choose your model (flash 2.0 is fast)\n",
        "model = genai.GenerativeModel(\"gemini-2.0-flash\")"
      ],
      "metadata": {
        "id": "c-DkoPBEXv2K"
      },
      "execution_count": null,
      "outputs": []
    },
    {
      "cell_type": "markdown",
      "source": [
        "### In case extraction does not run through (e.g your notebook stops prematurely after 20 minutes), save all the outputs as txt files in a directory so if the txt exists it does not need to be regenerated.\n"
      ],
      "metadata": {
        "id": "CEPZwlcKYYys"
      }
    },
    {
      "cell_type": "code",
      "source": [
        "result_directory = \"/content/drive/MyDrive/gemini_labels_KClist\"\n",
        "os.makedirs(result_directory, exist_ok=True)"
      ],
      "metadata": {
        "id": "FbJGaQgGX-IH"
      },
      "execution_count": null,
      "outputs": []
    },
    {
      "cell_type": "markdown",
      "source": [
        "### Feel Free to Edit Prompt (here is example)"
      ],
      "metadata": {
        "id": "7vULDWsoYpth"
      }
    },
    {
      "cell_type": "code",
      "source": [
        "def construct_prompt(student_code, solution, consensus_str):\n",
        "    concepts_str = consensus_str\n",
        "    prompt = f\"\"\"\n",
        "\n",
        "    You are a helpful concept classifier.\n",
        "    You will be given:\n",
        "    - A student's code submission\n",
        "    - The official solution code\n",
        "    - A list of concepts\n",
        "\n",
        "    Your task:\n",
        "    For each concept code in the list, determine a label:\n",
        "     1 if the concept is present and correctly used by the student's code\n",
        "     -1 of the concept is misunderstood (incorrect usage) in the student’s current code or if the concept is missing but required to complete a valid solution for the problem\n",
        "     0 if the concept is not present in the student’s current code and is not required to complete a valid solution for the problem\n",
        "\n",
        "    For each concept in the concepts_str, output a line in the form:\n",
        "    concept_code:label (for example, 1.1.4.1 Statements & Expressions: 1)\n",
        "\n",
        "    Do not include any explanations, just the mappings.\n",
        "\n",
        "    # Student's Code:\n",
        "    {student_code}\n",
        "\n",
        "    # Solution:\n",
        "    {solution}\n",
        "\n",
        "    # Concepts:\n",
        "    {concepts_str}\n",
        "    \"\"\"\n",
        "\n",
        "    return prompt.strip()"
      ],
      "metadata": {
        "id": "NAV2INivYiHW"
      },
      "execution_count": null,
      "outputs": []
    },
    {
      "cell_type": "code",
      "source": [
        "def get_gemini_labels(prompt, i):\n",
        "    try:\n",
        "      if i % 2 == 0:\n",
        "\n",
        "        response = model.generate_content(prompt)\n",
        "        return response.text\n",
        "    except Exception as e:\n",
        "        print(f\"Error during gemini call: {e}\")\n",
        "        return \"error\"\n"
      ],
      "metadata": {
        "id": "QpAtEFZYZHYR"
      },
      "execution_count": null,
      "outputs": []
    },
    {
      "cell_type": "markdown",
      "source": [
        "Make Sure to Fill in TODOs below"
      ],
      "metadata": {
        "id": "3G0-OSGZZdii"
      }
    },
    {
      "cell_type": "code",
      "source": [
        "from time import sleep\n",
        "result_directory = \"/content/drive/MyDrive/61abot/gemini_labels_KClist\"\n",
        "\n",
        "os.makedirs(result_directory, exist_ok=True)\n",
        "for i, row in tqdm(df.iterrows(), total=len(df)):\n",
        "\n",
        "    print(i)\n",
        "\n",
        "    if os.path.exists(os.path.join(result_directory, f\"{i}.txt\")):\n",
        "        continue\n",
        "    #ToDO (enter name column title for the students code)\n",
        "    student_code = row['extractedFunction_validonlyforpython']\n",
        "    #ToDO (enter name column title for the solution)\n",
        "    solution = row['solution']\n",
        "    #ToDO (enter name column title for the KC List associated with problem)\n",
        "    consensus_str = row['consensus_kc_labeling']\n",
        "    prompt = construct_prompt(student_code, solution, consensus_str)\n",
        "\n",
        "    try:\n",
        "      sleep(5)\n",
        "      response = get_gemini_labels(prompt)\n",
        "    except Exception as e:\n",
        "      print(e)\n",
        "      continue\n",
        "\n",
        "\n",
        "    with open(os.path.join(result_directory, f\"{i}.txt\"), \"w\") as f:\n",
        "        f.write(response)\n",
        "\n",
        "  #once all txt files show, you can create whatever format you prefer to store data"
      ],
      "metadata": {
        "id": "FknFRWIoYxtx"
      },
      "execution_count": null,
      "outputs": []
    }
  ]
}